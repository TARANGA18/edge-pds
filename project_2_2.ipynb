{
  "nbformat": 4,
  "nbformat_minor": 0,
  "metadata": {
    "colab": {
      "provenance": [],
      "gpuType": "V28"
    },
    "kernelspec": {
      "name": "python3",
      "display_name": "Python 3"
    },
    "language_info": {
      "name": "python"
    },
    "accelerator": "TPU"
  },
  "cells": [
    {
      "cell_type": "code",
      "source": [
        "#1\n",
        "import pandas as pd\n",
        "\n",
        "url = 'https://raw.githubusercontent.com/PulockDas/pd-12-resources/refs/heads/master/titanic.csv'\n",
        "df = pd.read_csv(url)\n",
        "\n",
        "print(df.head())\n"
      ],
      "metadata": {
        "colab": {
          "base_uri": "https://localhost:8080/"
        },
        "id": "fdacY4sEd5oz",
        "outputId": "dce2aaf9-bef9-41ed-b00f-2d68fd7b9620"
      },
      "execution_count": 32,
      "outputs": [
        {
          "output_type": "stream",
          "name": "stdout",
          "text": [
            "   PassengerId  Survived  Pclass  \\\n",
            "0            1         0       3   \n",
            "1            2         1       1   \n",
            "2            3         1       3   \n",
            "3            4         1       1   \n",
            "4            5         0       3   \n",
            "\n",
            "                                                Name     Sex   Age  SibSp  \\\n",
            "0                            Braund, Mr. Owen Harris    male  22.0      1   \n",
            "1  Cumings, Mrs. John Bradley (Florence Briggs Th...  female  38.0      1   \n",
            "2                             Heikkinen, Miss. Laina  female  26.0      0   \n",
            "3       Futrelle, Mrs. Jacques Heath (Lily May Peel)  female  35.0      1   \n",
            "4                           Allen, Mr. William Henry    male  35.0      0   \n",
            "\n",
            "   Parch            Ticket     Fare Cabin Embarked  \n",
            "0      0         A/5 21171   7.2500   NaN        S  \n",
            "1      0          PC 17599  71.2833   C85        C  \n",
            "2      0  STON/O2. 3101282   7.9250   NaN        S  \n",
            "3      0            113803  53.1000  C123        S  \n",
            "4      0            373450   8.0500   NaN        S  \n"
          ]
        }
      ]
    },
    {
      "cell_type": "code",
      "source": [
        "#2\n",
        "null_columns = df.columns[df.isnull().any()]\n",
        "print(\"Features with Null values:\", null_columns)\n"
      ],
      "metadata": {
        "colab": {
          "base_uri": "https://localhost:8080/"
        },
        "id": "S1tqORddd6Lr",
        "outputId": "18913a3a-e3a0-4b69-ecf1-ed204137aef6"
      },
      "execution_count": 33,
      "outputs": [
        {
          "output_type": "stream",
          "name": "stdout",
          "text": [
            "Features with Null values: Index(['Age', 'Cabin', 'Embarked'], dtype='object')\n"
          ]
        }
      ]
    },
    {
      "cell_type": "code",
      "source": [
        "#3\n",
        "df['Age'].fillna(df['Age'].mean(), inplace=True)\n",
        "\n",
        "df['Cabin'].fillna('Unknown', inplace=True)\n",
        "\n",
        "#print(df)\n"
      ],
      "metadata": {
        "colab": {
          "base_uri": "https://localhost:8080/"
        },
        "id": "kUrXuL-Sd7a9",
        "outputId": "00c90917-2e8a-4ec4-faff-2c612bd536cd"
      },
      "execution_count": 34,
      "outputs": [
        {
          "output_type": "stream",
          "name": "stderr",
          "text": [
            "<ipython-input-34-f69c8b811525>:2: FutureWarning: A value is trying to be set on a copy of a DataFrame or Series through chained assignment using an inplace method.\n",
            "The behavior will change in pandas 3.0. This inplace method will never work because the intermediate object on which we are setting values always behaves as a copy.\n",
            "\n",
            "For example, when doing 'df[col].method(value, inplace=True)', try using 'df.method({col: value}, inplace=True)' or df[col] = df[col].method(value) instead, to perform the operation inplace on the original object.\n",
            "\n",
            "\n",
            "  df['Age'].fillna(df['Age'].mean(), inplace=True)\n",
            "<ipython-input-34-f69c8b811525>:4: FutureWarning: A value is trying to be set on a copy of a DataFrame or Series through chained assignment using an inplace method.\n",
            "The behavior will change in pandas 3.0. This inplace method will never work because the intermediate object on which we are setting values always behaves as a copy.\n",
            "\n",
            "For example, when doing 'df[col].method(value, inplace=True)', try using 'df.method({col: value}, inplace=True)' or df[col] = df[col].method(value) instead, to perform the operation inplace on the original object.\n",
            "\n",
            "\n",
            "  df['Cabin'].fillna('Unknown', inplace=True)\n"
          ]
        }
      ]
    },
    {
      "cell_type": "code",
      "source": [
        "#4\n",
        "import matplotlib.pyplot as plt\n",
        "\n",
        "survived_gender = df.groupby(['Survived', 'Sex']).size().unstack()\n",
        "\n",
        "survived_gender = survived_gender[['male', 'female']]\n",
        "\n",
        "fig, ax = plt.subplots()\n",
        "survived_gender.plot(kind='bar', stacked=False, ax=ax, color=['blue', 'yellow'])\n",
        "\n",
        "ax.set_title('Survived and Dead Passengers by Gender')\n",
        "ax.set_xlabel('Survived (0 = No, 1 = Yes)')\n",
        "ax.set_ylabel('Count')\n",
        "ax.legend(title='Sex')\n",
        "plt.xticks(rotation=0)\n",
        "\n",
        "plt.show()\n"
      ],
      "metadata": {
        "colab": {
          "base_uri": "https://localhost:8080/",
          "height": 472
        },
        "id": "GWfRf3GMhQzw",
        "outputId": "f88ecf54-8500-4059-e523-f76c16ed238a"
      },
      "execution_count": 35,
      "outputs": [
        {
          "output_type": "display_data",
          "data": {
            "text/plain": [
              "<Figure size 640x480 with 1 Axes>"
            ],
            "image/png": "[encoded data removed]"
          },
          "metadata": {}
        }
      ]
    },
    {
      "cell_type": "code",
      "source": [
        "\"\"\"import matplotlib.pyplot as plt\n",
        "import seaborn as sns\n",
        "\n",
        "# Plot the dataset with 2 bars; Survived, Dead by gender\n",
        "sns.countplot(x='Survived', hue='Sex', data=df, palette={'male': 'blue', 'female': 'yellow'})\n",
        "plt.title('Survived and Dead Passengers by Gender')\n",
        "plt.xlabel('Survived (0 = No, 1 = Yes)')\n",
        "plt.ylabel('Count')\n",
        "plt.show()\"\"\"\n"
      ],
      "metadata": {
        "id": "Rphf4IQdd8zY",
        "outputId": "0c90c6f6-bc8c-40de-b879-ed6ae15fe2fe",
        "colab": {
          "base_uri": "https://localhost:8080/",
          "height": 105
        }
      },
      "execution_count": 36,
      "outputs": [
        {
          "output_type": "execute_result",
          "data": {
            "text/plain": [
              "\"import matplotlib.pyplot as plt\\nimport seaborn as sns\\n\\n# Plot the dataset with 2 bars; Survived, Dead by gender\\nsns.countplot(x='Survived', hue='Sex', data=df, palette={'male': 'blue', 'female': 'yellow'})\\nplt.title('Survived and Dead Passengers by Gender')\\nplt.xlabel('Survived (0 = No, 1 = Yes)')\\nplt.ylabel('Count')\\nplt.show()\""
            ],
            "application/vnd.google.colaboratory.intrinsic+json": {
              "type": "string"
            }
          },
          "metadata": {},
          "execution_count": 36
        }
      ]
    },
    {
      "cell_type": "code",
      "source": [
        "#5\n",
        "import matplotlib.pyplot as plt\n",
        "\n",
        "survived_pclass = df.groupby(['Survived', 'Pclass']).size().unstack()\n",
        "\n",
        "fig, ax = plt.subplots()\n",
        "survived_pclass.plot(kind='bar', stacked=False, ax=ax)\n",
        "\n",
        "ax.set_title('Survived and Dead Passengers by Pclass')\n",
        "ax.set_xlabel('Survived (0 = No, 1 = Yes)')\n",
        "ax.set_ylabel('Count')\n",
        "ax.legend(title='Pclass')\n",
        "plt.xticks(rotation=0)\n",
        "\n",
        "plt.show()\n"
      ],
      "metadata": {
        "colab": {
          "base_uri": "https://localhost:8080/",
          "height": 472
        },
        "id": "x-aN_WYHh1gi",
        "outputId": "83fc4aa4-08e5-4b68-b790-aa4efefade62"
      },
      "execution_count": 37,
      "outputs": [
        {
          "output_type": "display_data",
          "data": {
            "text/plain": [
              "<Figure size 640x480 with 1 Axes>"
            ],
            "image/png": "[encoded data removed]"
          },
          "metadata": {}
        }
      ]
    },
    {
      "cell_type": "code",
      "source": [
        "\"\"\"sns.countplot(x='Survived', hue='Pclass', data=df)\n",
        "plt.title('Survived and Dead Passengers by Pclass')\n",
        "plt.xlabel('Survived (0 = No, 1 = Yes)')\n",
        "plt.ylabel('Count')\n",
        "plt.show()\n",
        "\"\"\""
      ],
      "metadata": {
        "id": "uju2wSORd-ZZ",
        "outputId": "59f7709e-b8de-4fde-cb1a-e0c3bf8d9a2c",
        "colab": {
          "base_uri": "https://localhost:8080/",
          "height": 70
        }
      },
      "execution_count": 38,
      "outputs": [
        {
          "output_type": "execute_result",
          "data": {
            "text/plain": [
              "\"sns.countplot(x='Survived', hue='Pclass', data=df)\\nplt.title('Survived and Dead Passengers by Pclass')\\nplt.xlabel('Survived (0 = No, 1 = Yes)')\\nplt.ylabel('Count')\\nplt.show()\\n\""
            ],
            "application/vnd.google.colaboratory.intrinsic+json": {
              "type": "string"
            }
          },
          "metadata": {},
          "execution_count": 38
        }
      ]
    },
    {
      "cell_type": "code",
      "source": [
        "#6\n",
        "import pandas as pd\n",
        "\n",
        "url = 'https://raw.githubusercontent.com/PulockDas/pd-12-resources/refs/heads/master/titanic.csv'\n",
        "df = pd.read_csv(url)\n",
        "\n",
        "def categorize_age(age):\n",
        "    if age <= 16:\n",
        "        return 0\n",
        "    elif age <= 26:\n",
        "        return 1\n",
        "    elif age <= 36:\n",
        "        return 2\n",
        "    elif age <= 62:\n",
        "        return 3\n",
        "    else:\n",
        "        return 4\n",
        "\n",
        "df['AgeClass'] = df['Age'].apply(categorize_age)\n",
        "\n",
        "print(df.head())\n"
      ],
      "metadata": {
        "colab": {
          "base_uri": "https://localhost:8080/"
        },
        "id": "BqXNxzUliKs3",
        "outputId": "32755a06-2e52-4ece-a203-1f69a40c95d1"
      },
      "execution_count": 39,
      "outputs": [
        {
          "output_type": "stream",
          "name": "stdout",
          "text": [
            "   PassengerId  Survived  Pclass  \\\n",
            "0            1         0       3   \n",
            "1            2         1       1   \n",
            "2            3         1       3   \n",
            "3            4         1       1   \n",
            "4            5         0       3   \n",
            "\n",
            "                                                Name     Sex   Age  SibSp  \\\n",
            "0                            Braund, Mr. Owen Harris    male  22.0      1   \n",
            "1  Cumings, Mrs. John Bradley (Florence Briggs Th...  female  38.0      1   \n",
            "2                             Heikkinen, Miss. Laina  female  26.0      0   \n",
            "3       Futrelle, Mrs. Jacques Heath (Lily May Peel)  female  35.0      1   \n",
            "4                           Allen, Mr. William Henry    male  35.0      0   \n",
            "\n",
            "   Parch            Ticket     Fare Cabin Embarked  AgeClass  \n",
            "0      0         A/5 21171   7.2500   NaN        S         1  \n",
            "1      0          PC 17599  71.2833   C85        C         3  \n",
            "2      0  STON/O2. 3101282   7.9250   NaN        S         1  \n",
            "3      0            113803  53.1000  C123        S         2  \n",
            "4      0            373450   8.0500   NaN        S         2  \n"
          ]
        }
      ]
    },
    {
      "cell_type": "code",
      "source": [
        "\"\"\"\n",
        "df['AgeClass'] = pd.cut(df['Age'], bins=[0, 16, 26, 36, 62, df['Age'].max()], labels=[0, 1, 2, 3, 4], include_lowest=True)\n",
        "\n",
        "# Display the first few rows of the dataframe to check the new column\n",
        "print(df.head())\n",
        "\"\"\"\n"
      ],
      "metadata": {
        "id": "JYiYGP4Rd_yN",
        "outputId": "e41f8ce0-16ae-4740-b7da-b59ff4d1fe22",
        "colab": {
          "base_uri": "https://localhost:8080/",
          "height": 70
        }
      },
      "execution_count": 40,
      "outputs": [
        {
          "output_type": "execute_result",
          "data": {
            "text/plain": [
              "\"\\ndf['AgeClass'] = pd.cut(df['Age'], bins=[0, 16, 26, 36, 62, df['Age'].max()], labels=[0, 1, 2, 3, 4], include_lowest=True)\\n\\n# Display the first few rows of the dataframe to check the new column\\nprint(df.head())\\n\""
            ],
            "application/vnd.google.colaboratory.intrinsic+json": {
              "type": "string"
            }
          },
          "metadata": {},
          "execution_count": 40
        }
      ]
    },
    {
      "cell_type": "code",
      "source": [
        "#7\n",
        "df.drop('Age', axis=1, inplace=True)\n",
        "\n",
        "print(df.head())\n"
      ],
      "metadata": {
        "id": "8rDoeAeAeDJ3",
        "colab": {
          "base_uri": "https://localhost:8080/"
        },
        "outputId": "6bdb9400-8e8d-43e2-e115-49b405380c7b"
      },
      "execution_count": 41,
      "outputs": [
        {
          "output_type": "stream",
          "name": "stdout",
          "text": [
            "   PassengerId  Survived  Pclass  \\\n",
            "0            1         0       3   \n",
            "1            2         1       1   \n",
            "2            3         1       3   \n",
            "3            4         1       1   \n",
            "4            5         0       3   \n",
            "\n",
            "                                                Name     Sex  SibSp  Parch  \\\n",
            "0                            Braund, Mr. Owen Harris    male      1      0   \n",
            "1  Cumings, Mrs. John Bradley (Florence Briggs Th...  female      1      0   \n",
            "2                             Heikkinen, Miss. Laina  female      0      0   \n",
            "3       Futrelle, Mrs. Jacques Heath (Lily May Peel)  female      1      0   \n",
            "4                           Allen, Mr. William Henry    male      0      0   \n",
            "\n",
            "             Ticket     Fare Cabin Embarked  AgeClass  \n",
            "0         A/5 21171   7.2500   NaN        S         1  \n",
            "1          PC 17599  71.2833   C85        C         3  \n",
            "2  STON/O2. 3101282   7.9250   NaN        S         1  \n",
            "3            113803  53.1000  C123        S         2  \n",
            "4            373450   8.0500   NaN        S         2  \n"
          ]
        }
      ]
    },
    {
      "cell_type": "code",
      "source": [
        "#8\n",
        "import matplotlib.pyplot as plt\n",
        "\n",
        "survived_ageclass = df.groupby(['Survived', 'AgeClass']).size().unstack()\n",
        "\n",
        "fig, ax = plt.subplots()\n",
        "survived_ageclass.plot(kind='bar', stacked=False, ax=ax)\n",
        "\n",
        "ax.set_title('Survived and Dead Passengers by AgeClass')\n",
        "ax.set_xlabel('Survived (0 = No, 1 = Yes)')\n",
        "ax.set_ylabel('Count')\n",
        "ax.legend(title='AgeClass')\n",
        "plt.xticks(rotation=0)\n",
        "\n",
        "plt.show()\n"
      ],
      "metadata": {
        "colab": {
          "base_uri": "https://localhost:8080/",
          "height": 472
        },
        "id": "3jy0tY5flutU",
        "outputId": "afe9546e-ea03-428e-b72f-99e6667bade7"
      },
      "execution_count": 42,
      "outputs": [
        {
          "output_type": "display_data",
          "data": {
            "text/plain": [
              "<Figure size 640x480 with 1 Axes>"
            ],
            "image/png": "[encoded data removed]"
          },
          "metadata": {}
        }
      ]
    },
    {
      "cell_type": "code",
      "source": [
        "\"\"\"sns.countplot(x='Survived', hue='AgeClass', data=df)\n",
        "plt.title('Survived and Dead Passengers by AgeClass')\n",
        "plt.xlabel('Survived (0 = No, 1 = Yes)')\n",
        "plt.ylabel('Count')\n",
        "plt.show()\"\"\"\n"
      ],
      "metadata": {
        "colab": {
          "base_uri": "https://localhost:8080/",
          "height": 70
        },
        "id": "S9LfB9V0iUfZ",
        "outputId": "c3ddd58d-f937-468d-fbd6-461c866cdf95"
      },
      "execution_count": 43,
      "outputs": [
        {
          "output_type": "execute_result",
          "data": {
            "text/plain": [
              "\"sns.countplot(x='Survived', hue='AgeClass', data=df)\\nplt.title('Survived and Dead Passengers by AgeClass')\\nplt.xlabel('Survived (0 = No, 1 = Yes)')\\nplt.ylabel('Count')\\nplt.show()\""
            ],
            "application/vnd.google.colaboratory.intrinsic+json": {
              "type": "string"
            }
          },
          "metadata": {},
          "execution_count": 43
        }
      ]
    },
    {
      "cell_type": "code",
      "source": [],
      "metadata": {
        "id": "JV1IXyOtiVur"
      },
      "execution_count": 43,
      "outputs": []
    }
  ]
}